{
 "cells": [
  {
   "cell_type": "code",
   "execution_count": 5,
   "metadata": {},
   "outputs": [
    {
     "name": "stdout",
     "output_type": "stream",
     "text": [
      "daha kucuk bir sayi giriniz!\n",
      "tebrikler 2.  denemede sayiyi buldunuz!\n"
     ]
    }
   ],
   "source": [
    "import random\n",
    "def sayiTahmin(rnd_num):\n",
    "    inp_num=0\n",
    "    tahmin_sayisi=0\n",
    "    while inp_num!=rnd_num:\n",
    "        inp_num=int(input(\"bir sayi tahmin ediniz:\"))\n",
    "        if(inp_num < rnd_num):\n",
    "            print(\"daha buyuk bir sayi girin!\")\n",
    "        elif(inp_num > rnd_num):\n",
    "            print(\"daha kucuk bir sayi giriniz!\")\n",
    "        tahmin_sayisi+=1\n",
    "    print(f\"tebrikler {tahmin_sayisi}.  denemede sayiyi buldunuz!\")\n",
    "sayiTahmin(random.randint(1,100))\n",
    "\n",
    "        \n",
    "        "
   ]
  }
 ],
 "metadata": {
  "interpreter": {
   "hash": "fa782dacf2acad5ec4d4415500fb7ac2356ed0ce63f485079ce2f54ac44b194a"
  },
  "kernelspec": {
   "display_name": "Python 3.8.5 ('base')",
   "language": "python",
   "name": "python3"
  },
  "language_info": {
   "codemirror_mode": {
    "name": "ipython",
    "version": 3
   },
   "file_extension": ".py",
   "mimetype": "text/x-python",
   "name": "python",
   "nbconvert_exporter": "python",
   "pygments_lexer": "ipython3",
   "version": "3.8.5"
  },
  "orig_nbformat": 4
 },
 "nbformat": 4,
 "nbformat_minor": 2
}
