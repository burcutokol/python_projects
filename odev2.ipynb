{
 "cells": [
  {
   "cell_type": "code",
   "execution_count": 2,
   "metadata": {},
   "outputs": [],
   "source": [
    "def lowerCase(lines):\n",
    "   new_lines=[]\n",
    "   for item in lines:\n",
    "      item=item.lower()\n",
    "      new_lines.append(item)\n",
    "   return new_lines"
   ]
  },
  {
   "cell_type": "code",
   "execution_count": 3,
   "metadata": {},
   "outputs": [],
   "source": [
    "import string\n",
    "def removePunctuation(lines):\n",
    "    punctuation=string.punctuation\n",
    "    new_lines=[]\n",
    "    for i in lines:\n",
    "        for j in punctuation:\n",
    "            if  j in i:\n",
    "                i=(i.replace(j,\"\"))           \n",
    "            else :\n",
    "                continue\n",
    "        new_lines.append(i)   \n",
    "    return new_lines"
   ]
  },
  {
   "cell_type": "code",
   "execution_count": 4,
   "metadata": {},
   "outputs": [],
   "source": [
    "def uniqueText(lines):\n",
    "    new_lines=set(lines)\n",
    "    return new_lines"
   ]
  },
  {
   "cell_type": "code",
   "execution_count": 5,
   "metadata": {},
   "outputs": [],
   "source": [
    "def removeNumeric(lines):\n",
    "    new_lines=[]\n",
    "    \n",
    "    for line in lines:\n",
    "        line=(line.replace(\"\\n\",\"\")) \n",
    "        if not line.isdigit():\n",
    "            new_lines.append(line)\n",
    "            \n",
    "    return list(new_lines)\n"
   ]
  },
  {
   "cell_type": "code",
   "execution_count": 6,
   "metadata": {},
   "outputs": [],
   "source": [
    "def removeChars(lines):\n",
    "    chars=[\"ı\", \"ö\", \"ü\", \"ç\", \"ğ\"] \n",
    "    new_lines=[]\n",
    "\n",
    "    for i in lines:\n",
    "        for j in chars:\n",
    "            if j in i:\n",
    "                if j == \"ı\":\n",
    "                    i=(i.replace(j,\"i\"))  \n",
    "                if j == \"ö\":\n",
    "                    i=(i.replace(j,\"o\"))\n",
    "                if j == \"ü\":\n",
    "                    i=(i.replace(j,\"u\"))\n",
    "                if j == \"ç\":\n",
    "                    i=(i.replace(j,\"c\"))\n",
    "                if j == \"ğ\":\n",
    "                    i=(i.replace(j,\"g\"))\n",
    "        new_lines.append(i) \n",
    "    return new_lines\n",
    "                "
   ]
  },
  {
   "cell_type": "code",
   "execution_count": 18,
   "metadata": {},
   "outputs": [],
   "source": [
    "with open(\"istanbul_data.txt\", \"r\", encoding=\"utf8\") as f:\n",
    "    lines = f.readlines()\n",
    "    lines=list(lines)\n",
    "\n",
    "lines=lowerCase(lines)\n",
    "lines2=removePunctuation(lines)\n",
    "lines3=removeChars(lines2)\n",
    "lines4=removeNumeric(lines3)\n",
    "\n",
    "\n",
    "with open(\"istanbul_data.txt\", \"r\", encoding=\"utf8\") as f:\n",
    "    words={}\n",
    "    split_words= str(lines4).split()\n",
    "    for i in split_words:\n",
    "        if len(i) > 1:\n",
    "            i=i.replace(\"\\n\",\"\")\n",
    "            if i not in words:\n",
    "                words[i] = 1\n",
    "            else:\n",
    "                words[i] += 1\n",
    "\n",
    "            "
   ]
  }
 ],
 "metadata": {
  "kernelspec": {
   "display_name": "Python 3.8.5 ('base')",
   "language": "python",
   "name": "python3"
  },
  "language_info": {
   "codemirror_mode": {
    "name": "ipython",
    "version": 3
   },
   "file_extension": ".py",
   "mimetype": "text/x-python",
   "name": "python",
   "nbconvert_exporter": "python",
   "pygments_lexer": "ipython3",
   "version": "3.8.5"
  },
  "orig_nbformat": 4,
  "vscode": {
   "interpreter": {
    "hash": "fa782dacf2acad5ec4d4415500fb7ac2356ed0ce63f485079ce2f54ac44b194a"
   }
  }
 },
 "nbformat": 4,
 "nbformat_minor": 2
}
