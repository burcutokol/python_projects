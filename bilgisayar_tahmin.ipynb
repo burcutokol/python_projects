{
 "cells": [
  {
   "cell_type": "code",
   "execution_count": 10,
   "metadata": {},
   "outputs": [
    {
     "name": "stdout",
     "output_type": "stream",
     "text": [
      "You are leaving the game!\n"
     ]
    }
   ],
   "source": [
    "import random\n",
    "\n",
    "def bilg_tahmin(sayi):\n",
    "    baslangic, son=1,50\n",
    "    inp= \"\"\n",
    "    \n",
    "    while inp!=\"d\":\n",
    "        if baslangic <= son:\n",
    "            tahmin=random.randint(baslangic,son),\n",
    "        else:\n",
    "            tahmin=baslangic\n",
    "\n",
    "        inp=(f\"{tahmin} daha küçükse k, büyükse b, tahminim dogruysa d gir\")\n",
    "        inp=inp.lower()\n",
    "        \n",
    "        if inp == 'b':\n",
    "            son = tahmin - 1\n",
    "        elif inp == 'k':\n",
    "            baslangic = tahmin + 1\n",
    "        elif inp != 'd':\n",
    "            print(\"You are leaving the game!\")\n",
    "            break\n",
    "    else:\n",
    "        print('tebrikler, sayıyı buldun!')\n",
    "bilg_tahmin(26)\n"
   ]
  }
 ],
 "metadata": {
  "interpreter": {
   "hash": "fa782dacf2acad5ec4d4415500fb7ac2356ed0ce63f485079ce2f54ac44b194a"
  },
  "kernelspec": {
   "display_name": "Python 3.8.5 ('base')",
   "language": "python",
   "name": "python3"
  },
  "language_info": {
   "codemirror_mode": {
    "name": "ipython",
    "version": 3
   },
   "file_extension": ".py",
   "mimetype": "text/x-python",
   "name": "python",
   "nbconvert_exporter": "python",
   "pygments_lexer": "ipython3",
   "version": "3.8.5"
  },
  "orig_nbformat": 4
 },
 "nbformat": 4,
 "nbformat_minor": 2
}
