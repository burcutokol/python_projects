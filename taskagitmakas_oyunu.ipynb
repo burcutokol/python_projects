{
 "cells": [
  {
   "cell_type": "code",
   "execution_count": 13,
   "metadata": {},
   "outputs": [
    {
     "name": "stdout",
     "output_type": "stream",
     "text": [
      "Seciminizi yapin \n",
      " 1-Tas \n",
      " 2-Kagit \n",
      " 3-Makas \n",
      " Çıkmak için q\n"
     ]
    }
   ],
   "source": [
    "import random\n",
    "\n",
    "def oyun():\n",
    "    bilg_secim=random.randint(1,3)\n",
    "    kullanici_puan=0\n",
    "    bilg_puan=0\n",
    "    print(\"Seciminizi yapin \\n 1-Tas \\n 2-Kagit \\n 3-Makas \\n Çıkmak için q\")\n",
    "    kullanici_secimi=input(int())\n",
    "    while(kullanici_secimi!=str(\"q\")):\n",
    "        if(kullanici_secimi!=bilg_secim):\n",
    "            if kullanici_secimi==1 & bilg_secim==2:\n",
    "                print(\"kullanici kazandi\")\n",
    "                kullanici_puan+=1\n",
    "            elif kullanici_secimi==1 & bilg_secim==3:\n",
    "                print(\"kullanici kazandi\")\n",
    "                kullanici_puan+=1\n",
    "            elif kullanici_secimi==2 & bilg_secim==3:\n",
    "                print(\"bilgisayar kazandi\")\n",
    "                bilg_puan+=1\n",
    "            elif kullanici_secimi==3 & bilg_secim==1:\n",
    "                print(\"bilgisayar kazandi\")\n",
    "                bilg_puan+=1\n",
    "            elif kullanici_secimi==3 & bilg_secim==2:\n",
    "                print(\"kullanici kazandi\")\n",
    "                kullanici_puan+=1\n",
    "    return kullanici_puan,bilg_puan\n",
    "kullanici,bilgisayar=oyun()\n",
    "if(kullanici>bilgisayar):\n",
    "    print(\"tebrikler kazandınız!\")\n",
    "else:\n",
    "    print(\"kaybettiniz...\")\n",
    "            \n",
    "\n"
   ]
  }
 ],
 "metadata": {
  "interpreter": {
   "hash": "fa782dacf2acad5ec4d4415500fb7ac2356ed0ce63f485079ce2f54ac44b194a"
  },
  "kernelspec": {
   "display_name": "Python 3.8.5 ('base')",
   "language": "python",
   "name": "python3"
  },
  "language_info": {
   "codemirror_mode": {
    "name": "ipython",
    "version": 3
   },
   "file_extension": ".py",
   "mimetype": "text/x-python",
   "name": "python",
   "nbconvert_exporter": "python",
   "pygments_lexer": "ipython3",
   "version": "3.8.5"
  },
  "orig_nbformat": 4
 },
 "nbformat": 4,
 "nbformat_minor": 2
}
